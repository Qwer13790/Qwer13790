{
  "nbformat": 4,
  "nbformat_minor": 0,
  "metadata": {
    "colab": {
      "provenance": [],
      "toc_visible": true,
      "include_colab_link": true
    },
    "kernelspec": {
      "name": "python3",
      "display_name": "Python 3"
    },
    "language_info": {
      "name": "python"
    }
  },
  "cells": [
    {
      "cell_type": "markdown",
      "metadata": {
        "id": "view-in-github",
        "colab_type": "text"
      },
      "source": [
        "<a href=\"https://colab.research.google.com/github/Qwer13790/Qwer13790/blob/main/Untitled.ipynb\" target=\"_parent\"><img src=\"https://colab.research.google.com/assets/colab-badge.svg\" alt=\"Open In Colab\"/></a>"
      ]
    },
    {
      "cell_type": "code",
      "execution_count": null,
      "metadata": {
        "colab": {
          "base_uri": "https://localhost:8080/"
        },
        "id": "CNgd-q5RcdBO",
        "outputId": "666cc338-05bf-4619-c4e5-b1770e92f859"
      },
      "outputs": [
        {
          "output_type": "stream",
          "name": "stdout",
          "text": [
            "Requirement already satisfied: transformers in /usr/local/lib/python3.10/dist-packages (4.41.2)\n",
            "Requirement already satisfied: torch in /usr/local/lib/python3.10/dist-packages (2.3.0+cu121)\n"
          ]
        }
      ],
      "source": [
        "# @title Default title text\n",
        "!pip install transformers torch\n",
        "from transformers import pipeline\n",
        "\n",
        "# بارگذاری مدل برای دسته‌بندی متن\n",
        "classifier = pipeline('sentiment-analysis')\n",
        "\n",
        "# تست مدل با یک جمله\n",
        "result = classifier(\"I love using Hugging Face models!\")\n",
        "\n",
        "# نمایش نتیجه\n",
        "print(result)\n",
        "inputs = tokenizer(\"Hello, my name is ChatGPT\", return_tensors=\"pt\")\n",
        "with torch.no_grad():\n",
        "    outputs = model(**inputs)\n",
        "\n",
        "print(outputs)"
      ]
    },
    {
      "cell_type": "markdown",
      "source": [
        "# New Section"
      ],
      "metadata": {
        "id": "aq4PiiTZ3_rt"
      }
    }
  ]
}